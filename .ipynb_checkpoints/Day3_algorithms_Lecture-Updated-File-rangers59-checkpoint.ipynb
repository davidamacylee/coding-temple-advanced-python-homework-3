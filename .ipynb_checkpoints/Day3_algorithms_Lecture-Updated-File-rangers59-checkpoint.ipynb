{
 "cells": [
  {
   "cell_type": "markdown",
   "metadata": {},
   "source": [
    "# Algorithms, Binary Search & Linked Lists"
   ]
  },
  {
   "cell_type": "markdown",
   "metadata": {},
   "source": [
    "## Tasks Today:\n",
    " \n",
    "1) <b>In-Place Algorithms</b> <br>\n",
    " &nbsp;&nbsp;&nbsp;&nbsp; a) Syntax <br>\n",
    " &nbsp;&nbsp;&nbsp;&nbsp; a) Out of Place Algorithm <br>\n",
    " &nbsp;&nbsp;&nbsp;&nbsp; b) In-Class Exercise #1 <br>\n",
    "2) <b>Two Pointers</b> <br>\n",
    "3) <b>Linked Lists</b> <br>\n",
    "4) <b>Merge Sort</b> <br>\n",
    " &nbsp;&nbsp;&nbsp;&nbsp; a) Video on Algorithms <br>\n",
    " &nbsp;&nbsp;&nbsp;&nbsp; b) How it Works <br>\n",
    "5) <b>Exercises</b> <br>\n",
    " &nbsp;&nbsp;&nbsp;&nbsp; a) Exercise #1 - Reverse a List in Place Using an In-Place Algorithm <br>\n",
    " &nbsp;&nbsp;&nbsp;&nbsp; b) Exercise #2 - Find Distinct Words <br>\n",
    " &nbsp;&nbsp;&nbsp;&nbsp; c) Exercise #3 - Write a program to implement a Linear Search Algorithm. <br>"
   ]
  },
  {
   "cell_type": "markdown",
   "metadata": {},
   "source": [
    "## In-Place Algorithms"
   ]
  },
  {
   "cell_type": "markdown",
   "metadata": {},
   "source": [
    "#### Syntax"
   ]
  },
  {
   "cell_type": "code",
   "execution_count": 1,
   "metadata": {},
   "outputs": [
    {
     "name": "stdout",
     "output_type": "stream",
     "text": [
      "Before swap: [20, 4, 10]\n",
      "After swap: [20, 10, 4]\n"
     ]
    }
   ],
   "source": [
    "# var[i], var[i + 1] = var[i + 1], var[i]\n",
    "# Sometimes known as a swap algorithm\n",
    "def swap(a_list, x, y, z):\n",
    "    a_list[x], a_list[y], a_list[z] = a_list[z], a_list[y], a_list[x]\n",
    "    return a_list\n",
    "\n",
    "my_list = [20, 4, 10]\n",
    "print(f'Before swap: {my_list}')\n",
    "\n",
    "swap(my_list, 2, 0, 1)\n",
    "\n",
    "print(f'After swap: {my_list}')"
   ]
  },
  {
   "cell_type": "markdown",
   "metadata": {},
   "source": [
    "#### Out of Place Algorithm"
   ]
  },
  {
   "cell_type": "code",
   "execution_count": 4,
   "metadata": {},
   "outputs": [
    {
     "name": "stdout",
     "output_type": "stream",
     "text": [
      "[4, 10, 20]\n",
      "[20, 10, 4]\n",
      "Before:  ['a', 'b', 'c', 'd']\n",
      "After:  ['d', 'c', 'b', 'a']\n"
     ]
    }
   ],
   "source": [
    "# not swapping, reversing completely, BUT also copies to another place in memory\n",
    "\n",
    "my_list_copy = my_list[::-1]\n",
    "print(my_list_copy)\n",
    "print(my_list)\n",
    "\n",
    "array = ['a', 'b', 'c', 'd']\n",
    "new_array = ['a'] * len(array)\n",
    "\n",
    "print('Before: ', array)\n",
    "length = len(array) - 1\n",
    "\n",
    "for i in range(length):\n",
    "    new_array[i] = array[length - i]\n",
    "    \n",
    "array = new_array\n",
    "print('After: ', array)"
   ]
  },
  {
   "cell_type": "markdown",
   "metadata": {},
   "source": [
    "#### In-Class Exercise #1 <br>\n",
    "<p>Write a function that takes in four arguments (list, index1, index2, index3), and swaps those three positions in the list passed in.</p>"
   ]
  },
  {
   "cell_type": "code",
   "execution_count": 14,
   "metadata": {},
   "outputs": [
    {
     "name": "stdout",
     "output_type": "stream",
     "text": [
      "[10, 4, 4, 8, 3, 2, 6]\n",
      "[4, 10, 4, 8, 3, 2, 6]\n",
      "[4, 4, 10, 8, 3, 2, 6]\n"
     ]
    }
   ],
   "source": [
    "l_1 = [10, 4, 3, 8, 4, 2, 6]\n",
    "\n",
    "def swapOrder(a_list, x, y, z):\n",
    "    a_list[x], a_list[y], a_list[z] = a_list[z], a_list[y], a_list[x]\n",
    "    \n",
    "swapOrder(l_1, 2, 0, 4)\n",
    "print(l_1)\n",
    "\n",
    "def cycleOrder(a_list, x, y, z):\n",
    "    a_list[x], a_list[y], a_list[z] = a_list[z], a_list[x], a_list[y]\n",
    "    \n",
    "cycleOrder(l_1, 0, 1, 2)\n",
    "print(l_1)\n",
    "cycleOrder(l_1, 0, 1, 2)\n",
    "print(l_1)"
   ]
  },
  {
   "cell_type": "markdown",
   "metadata": {},
   "source": [
    "## Two Pointers"
   ]
  },
  {
   "cell_type": "markdown",
   "metadata": {},
   "source": [
    "#### Syntax"
   ]
  },
  {
   "cell_type": "code",
   "execution_count": 15,
   "metadata": {},
   "outputs": [
    {
     "ename": "SyntaxError",
     "evalue": "cannot assign to function call here. Maybe you meant '==' instead of '='? (3835339161.py, line 9)",
     "output_type": "error",
     "traceback": [
      "\u001b[1;36m  Cell \u001b[1;32mIn[15], line 9\u001b[1;36m\u001b[0m\n\u001b[1;33m    alist(left), alist(right) = alist(right), alist(left)\u001b[0m\n\u001b[1;37m                 ^\u001b[0m\n\u001b[1;31mSyntaxError\u001b[0m\u001b[1;31m:\u001b[0m cannot assign to function call here. Maybe you meant '==' instead of '='?\n"
     ]
    }
   ],
   "source": [
    "# alist(left), alist(right) = alist(right), alist(left)\n",
    "\n",
    "def twoPointers(alist):\n",
    "    #create the pointers\n",
    "    left = 0\n",
    "    right = len(alist) - 1\n",
    "    # set up a loop that works through our list and swaps things one pair at a time\n",
    "    while left <= right:\n",
    "        alist[left], alist[right] = alist[right], alist[left]\n",
    "        left += 1\n",
    "        right -= 1\n",
    "    return alist\n",
    "\n",
    "my_list2 = [1, 2, 3, 12, 9, 8, 4, 11, 22]\n",
    "twoPointers(my_list2)\n",
    "print(my_list2)"
   ]
  },
  {
   "cell_type": "markdown",
   "metadata": {},
   "source": [
    "#### Video of Algorithms <br>\n",
    "<p>Watch the video about algorithms.</p>\n",
    "\n",
    "https://www.youtube.com/watch?v=Q9HjeFD62Uk\n",
    "\n",
    "https://www.youtube.com/watch?v=kPRA0W1kECg\n",
    "\n",
    "https://www.youtube.com/watch?v=ZZuD6iUe3Pc"
   ]
  },
  {
   "cell_type": "markdown",
   "metadata": {},
   "source": [
    "# Sorting Algorithms"
   ]
  },
  {
   "cell_type": "markdown",
   "metadata": {},
   "source": [
    "#### Bubble Sort\n",
    "\n",
    "Worst Case: O(n^2) Time - O(1) Space"
   ]
  },
  {
   "cell_type": "code",
   "execution_count": 16,
   "metadata": {},
   "outputs": [
    {
     "data": {
      "text/plain": [
       "[1, 22, 34, 44, 55, 66, 88, 100]"
      ]
     },
     "execution_count": 16,
     "metadata": {},
     "output_type": "execute_result"
    }
   ],
   "source": [
    "# Best case: O(n) = linear\n",
    "\n",
    "def swap(i, j, array):\n",
    "    array[i], array[j] = array[j], array[i]\n",
    "    \n",
    "def bubbleSort(array):\n",
    "    isSorted = False\n",
    "    while not isSorted:\n",
    "        isSorted = True\n",
    "        for num in range(len(array) - 1):\n",
    "            if array[num] > array[num + 1]:\n",
    "                swap(num, num + 1, array)\n",
    "                isSorted = False\n",
    "    return array\n",
    "bubbleSort([22, 55, 88, 44, 1, 100, 34, 66])"
   ]
  },
  {
   "cell_type": "markdown",
   "metadata": {},
   "source": [
    "##### Insertion Sort\n",
    "\n",
    "Worst Case: O(n^2) time - O(1)space"
   ]
  },
  {
   "cell_type": "code",
   "execution_count": 17,
   "metadata": {},
   "outputs": [
    {
     "data": {
      "text/plain": [
       "[1, 22, 34, 44, 55, 66, 88, 100]"
      ]
     },
     "execution_count": 17,
     "metadata": {},
     "output_type": "execute_result"
    }
   ],
   "source": [
    "def swap(i, j, array):\n",
    "    array[i], array[j] = array[j], array[i]\n",
    "    \n",
    "def insertionSort(array):\n",
    "    for i in range(1, len(array)):\n",
    "        j = i\n",
    "        while j > 0 and array[j] < array[j - 1]:\n",
    "            swap(j, j - 1, array)\n",
    "            j -= 1\n",
    "    return array\n",
    "\n",
    "insertionSort([22, 55, 88, 44, 1, 100, 34, 66])"
   ]
  },
  {
   "cell_type": "markdown",
   "metadata": {},
   "source": [
    "## Merge Sort"
   ]
  },
  {
   "cell_type": "markdown",
   "metadata": {},
   "source": [
    "#### How it Works"
   ]
  },
  {
   "cell_type": "code",
   "execution_count": 27,
   "metadata": {},
   "outputs": [
    {
     "name": "stdout",
     "output_type": "stream",
     "text": [
      "Splitting... [4, 17, 13, 1, 5, 2, 10, 4, 9]\n",
      "Splitting... [4, 17, 13, 1]\n",
      "Splitting... [4, 17]\n",
      "Splitting... [4]\n",
      "Merging... [4]\n",
      "Splitting... [17]\n",
      "Merging... [17]\n",
      "Merging... [4, 17]\n",
      "Splitting... [13, 1]\n",
      "Splitting... [13]\n",
      "Merging... [13]\n",
      "Splitting... [1]\n",
      "Merging... [1]\n",
      "Merging... [1, 13]\n",
      "Merging... [1, 4, 13, 17]\n",
      "Splitting... [5, 2, 10, 4, 9]\n",
      "Splitting... [5, 2]\n",
      "Splitting... [5]\n",
      "Merging... [5]\n",
      "Splitting... [2]\n",
      "Merging... [2]\n",
      "Merging... [2, 5]\n",
      "Splitting... [10, 4, 9]\n",
      "Splitting... [10]\n",
      "Merging... [10]\n",
      "Splitting... [4, 9]\n",
      "Splitting... [4]\n",
      "Merging... [4]\n",
      "Splitting... [9]\n",
      "Merging... [9]\n",
      "Merging... [4, 9]\n",
      "Merging... [4, 9, 10]\n",
      "Merging... [2, 4, 5, 9, 10]\n",
      "Merging... [1, 2, 4, 4, 5, 9, 10, 13, 17]\n"
     ]
    },
    {
     "data": {
      "text/plain": [
       "[1, 2, 4, 4, 5, 9, 10, 13, 17]"
      ]
     },
     "execution_count": 27,
     "metadata": {},
     "output_type": "execute_result"
    }
   ],
   "source": [
    "# Step 1: split everything into its own group\n",
    "# Step 2: from left to right, merge two groups together\n",
    "# Step 3: while merging, place each item in the correct position within the merged group\n",
    "# Step 4: continue steps 3-4 until only one group is left.\n",
    "\n",
    "from random import randint\n",
    "# use this to generate a random list of 5 number from 0 to 20\n",
    "nums = [randint(0,20) for i in range(9)]\n",
    "\n",
    "# Write our merge sort below\n",
    "def mergeSort(alist):\n",
    "    print('Splitting...', alist)\n",
    "    \n",
    "    # Step 1: Divide the array into equal parts as much as possible\n",
    "    if len(alist) > 1:\n",
    "        mid = len(alist) // 2\n",
    "        lefthalf = alist[:mid]\n",
    "        righthalf = alist[mid:]\n",
    "        \n",
    "        # recursively call mergeSort to perform splits if needed\n",
    "        # THEN merge once the splits are done\n",
    "        mergeSort(lefthalf)\n",
    "        mergeSort(righthalf)\n",
    "        \n",
    "        # index pointers for our list\n",
    "        i = 0 # pointer for our left half\n",
    "        j = 0 # pointer for our right half\n",
    "        k = 0 # pointer for our main array\n",
    "        \n",
    "        # Step 2: Compare the left half and the right half\n",
    "        # Starting with the first item on lefthalf, each index i is compared to righthalf's index j.\n",
    "        # If it is lower, then it is added to alist's index k, and alist's index k advances in position.\n",
    "        # If lefthalf's index i is added to alist's index k, then lefthalf's index i advances in position.\n",
    "        # If it is not lower, then righthalf's index j is added to alist's index k, and index k advances.\n",
    "        # If righthalf's index j is added to alist's index k, then righthalf's index j advances.\n",
    "        # Once one of the lists' indeces has reached the end of its list, the while condition is no longer true,\n",
    "        # and that list should should have been entirely added to alist.\n",
    "        while i < len(lefthalf) and j < len(righthalf):\n",
    "            if lefthalf[i] < righthalf[j]:\n",
    "                alist[k] = lefthalf[i]\n",
    "                i += 1\n",
    "            else:\n",
    "                alist[k] = righthalf[j]\n",
    "                j += 1\n",
    "            k += 1\n",
    "        \n",
    "        # Step 3: While merging place items in the correct positions\n",
    "        # By this point either lefthalf or righthalf has been entirely added to alist,\n",
    "        # so one of these while conditions will not evaluate as true even once.\n",
    "        # The other list which has not been entirely added yet will have an index which has\n",
    "        # advanced somewhere along the line of its list. The while loop will iterate through\n",
    "        # the rest of that list, adding it to the current k index on alist.\n",
    "        while i < len(lefthalf):\n",
    "            alist[k] = lefthalf[i]\n",
    "            i += 1\n",
    "            k += 1\n",
    "        while j < len(righthalf):\n",
    "            alist[k] = righthalf[j]\n",
    "            j += 1\n",
    "            k += 1\n",
    "    print('Merging...', alist)\n",
    "    return alist\n",
    "\n",
    "mergeSort(nums)"
   ]
  },
  {
   "cell_type": "markdown",
   "metadata": {},
   "source": [
    "# Binary Search\n",
    "\n",
    "The Binary Search algorithm works by finding the number in the middle of a given array and comparing it to the target. Given that the array is sorted\n",
    "\n",
    "* The worst case run time for this algorithm is `O(log(n))`"
   ]
  },
  {
   "cell_type": "code",
   "execution_count": 31,
   "metadata": {},
   "outputs": [
    {
     "data": {
      "text/plain": [
       "'The index is... 1'"
      ]
     },
     "execution_count": 31,
     "metadata": {},
     "output_type": "execute_result"
    }
   ],
   "source": [
    "# Less = left\n",
    "# Greater = right\n",
    "# List of numbers MUST be sorted\n",
    "\n",
    "def binarySearchHelperFunction(array, target, left, right):\n",
    "    while left <= right:\n",
    "        middle = (left + right) // 2\n",
    "        potentialMatch = array[middle]\n",
    "        if target == potentialMatch:\n",
    "            return (f'The index is... {middle}')\n",
    "        elif target < potentialMatch:\n",
    "            right = middle - 1\n",
    "        else:\n",
    "            left = middle + 1\n",
    "    return -1\n",
    "\n",
    "def binarySearch(array, target):\n",
    "    return binarySearchHelperFunction(array, target, 0, len(array) - 1)\n",
    "\n",
    "binarySearch([22,44,55,66,88,100], 44)"
   ]
  },
  {
   "cell_type": "markdown",
   "metadata": {},
   "source": [
    "# Exercises"
   ]
  },
  {
   "cell_type": "markdown",
   "metadata": {},
   "source": [
    "### Exercise #1 <br>\n",
    "<p>Reverse the list below in-place using an in-place algorithm.<br>For extra credit: Reverse the strings at the same time.</p>"
   ]
  },
  {
   "cell_type": "code",
   "execution_count": 51,
   "metadata": {},
   "outputs": [
    {
     "name": "stdout",
     "output_type": "stream",
     "text": [
      "['.', 'ecnetnes', 'a', 'si', 'siht']\n"
     ]
    }
   ],
   "source": [
    "words = ['this' , 'is', 'a', 'sentence', '.']\n",
    "\n",
    "def reverseInPlace(alist, a, b, c, d, e):\n",
    "    counter = 0\n",
    "    for word in alist:\n",
    "        new_word = ''\n",
    "        length = len(word) - 1\n",
    "        for i in range(length):\n",
    "            new_word += word[length - i]\n",
    "        if len(new_word) != len(word):\n",
    "            new_word += word[0]\n",
    "        alist[counter] = new_word\n",
    "        counter += 1\n",
    "    alist[a], alist[b], alist[c], alist[d], alist[e] = alist[e], alist[d], alist[c], alist[b], alist[a]\n",
    "    return alist\n",
    "            \n",
    "print(reverseInPlace(words, 0, 1, 2, 3, 4))"
   ]
  },
  {
   "cell_type": "markdown",
   "metadata": {},
   "source": [
    "### Exercise #2 <br>\n",
    "<p>Create a function that counts how many distinct words are in the string below, then outputs a dictionary with the words as the key and the value as the amount of times that word appears in the string.<br>Should output:<br>{'a': 5,<br>\n",
    " 'abstract': 1,<br>\n",
    " 'an': 3,<br>\n",
    " 'array': 2, ... etc...</p>"
   ]
  },
  {
   "cell_type": "code",
   "execution_count": 4,
   "metadata": {},
   "outputs": [
    {
     "data": {
      "text/plain": [
       "{'in': 1,\n",
       " 'computing,': 1,\n",
       " 'a': 5,\n",
       " 'hash': 4,\n",
       " 'table': 2,\n",
       " 'map': 2,\n",
       " 'is': 1,\n",
       " 'data': 2,\n",
       " 'structure': 2,\n",
       " 'which': 2,\n",
       " 'implements': 1,\n",
       " 'an': 3,\n",
       " 'associative': 1,\n",
       " 'array': 2,\n",
       " 'abstract': 1,\n",
       " 'type,': 1,\n",
       " 'that': 1,\n",
       " 'can': 2,\n",
       " 'keys': 1,\n",
       " 'to': 2,\n",
       " 'values.': 1,\n",
       " 'uses': 1,\n",
       " 'function': 1,\n",
       " 'compute': 1,\n",
       " 'index': 1,\n",
       " 'into': 1,\n",
       " 'of': 1,\n",
       " 'buckets': 1,\n",
       " 'or': 1,\n",
       " 'slots': 1,\n",
       " 'from': 1,\n",
       " 'the': 1,\n",
       " 'desired': 1,\n",
       " 'value': 1,\n",
       " 'be': 1,\n",
       " 'found': 1}"
      ]
     },
     "execution_count": 4,
     "metadata": {},
     "output_type": "execute_result"
    }
   ],
   "source": [
    "a_text = 'In computing, a hash table hash map is a data structure which implements an associative array abstract data type, a structure that can map keys to values. A hash table uses a hash function to compute an index into an array of buckets or slots from which the desired value can be found'\n",
    "\n",
    "def wordInstanceCounter(astring):\n",
    "    words = astring.split()\n",
    "    instances = {}\n",
    "    for word in words:\n",
    "        counter = 0\n",
    "        for wordcheck in words:\n",
    "            if word.lower() == wordcheck.lower():\n",
    "                counter += 1\n",
    "        if word.lower() not in instances:\n",
    "            instances[word.lower()] = counter\n",
    "    return instances\n",
    "        \n",
    "wordInstanceCounter(a_text)"
   ]
  },
  {
   "cell_type": "markdown",
   "metadata": {},
   "source": [
    "## Exercise #3\n",
    "\n",
    "Write a program to implement a Linear Search Algorithm. Also in a comment, write the Time Complexity of the following algorithm.\n",
    "\n",
    "#### Hint: Linear Searching will require searching a list for a given number. "
   ]
  },
  {
   "cell_type": "code",
   "execution_count": 8,
   "metadata": {},
   "outputs": [
    {
     "data": {
      "text/plain": [
       "'Found at array index 6'"
      ]
     },
     "execution_count": 8,
     "metadata": {},
     "output_type": "execute_result"
    }
   ],
   "source": [
    "nums = [1, 2, 3, 4, 5, 6, 7, 8, 9, 10, 11, 12, 13, 14, 15]\n",
    "\n",
    "# Time Complexity: O(n)\n",
    "\n",
    "def linearSearch(array, target):\n",
    "    for i in range(len(array)):\n",
    "        if array[i] == target:\n",
    "            return f'Found at array index {i}'\n",
    "    return 'Not found in list'\n",
    "        \n",
    "linearSearch(nums, 7)"
   ]
  }
 ],
 "metadata": {
  "kernelspec": {
   "display_name": "Python 3 (ipykernel)",
   "language": "python",
   "name": "python3"
  },
  "language_info": {
   "codemirror_mode": {
    "name": "ipython",
    "version": 3
   },
   "file_extension": ".py",
   "mimetype": "text/x-python",
   "name": "python",
   "nbconvert_exporter": "python",
   "pygments_lexer": "ipython3",
   "version": "3.10.9"
  }
 },
 "nbformat": 4,
 "nbformat_minor": 2
}
